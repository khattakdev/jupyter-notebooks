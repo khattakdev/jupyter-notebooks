{
 "metadata": {
  "language_info": {
   "codemirror_mode": {
    "name": "ipython",
    "version": 3
   },
   "file_extension": ".py",
   "mimetype": "text/x-python",
   "name": "python",
   "nbconvert_exporter": "python",
   "pygments_lexer": "ipython3",
   "version": "3.9.2"
  },
  "orig_nbformat": 2,
  "kernelspec": {
   "name": "python392jvsc74a57bd04fdf0411c4879bc9c6e4b45bea9a36fde954b512d06ac46566fd0a714874d8cd",
   "display_name": "Python 3.9.2 64-bit"
  }
 },
 "nbformat": 4,
 "nbformat_minor": 2,
 "cells": [
  {
   "cell_type": "code",
   "execution_count": 34,
   "metadata": {},
   "outputs": [],
   "source": [
    "def sortByMarks(arr):\n",
    "    arrLenght = len(arr)\n",
    "\n",
    "    for i in range(arrLenght - 1):\n",
    "        for j in range(0, arrLenght-i-1):\n",
    "            if arr[j]['marks'] < arr[j+1]['marks']:\n",
    "                arr[j], arr[j+1] = arr[j+1], arr[j]"
   ]
  },
  {
   "cell_type": "code",
   "execution_count": 74,
   "metadata": {},
   "outputs": [],
   "source": [
    "def printStudents(students):\n",
    "    stdLen = len(students)\n",
    "\n",
    "    for i in range(stdLen):\n",
    "        if(i > 2):\n",
    "            break\n",
    "        print(\"Name: \", students[i]['name'],\n",
    "        \", Roll No: \" , students[i]['rollNo'],\n",
    "        \", Marks No: \" , students[i]['marks'])    "
   ]
  },
  {
   "cell_type": "code",
   "execution_count": 75,
   "metadata": {},
   "outputs": [],
   "source": [
    "def takeInput():\n",
    "    usersCount = int(input(\"How many students record you have?\"))\n",
    "    students = []\n",
    "    for i in range(usersCount):\n",
    "        students.insert(i, \n",
    "            dict( name = input(\"Enter student's name\"),\n",
    "            rollNo = int(input(\"Enter student's roll No\")),\n",
    "            marks = int(input(\"Enter student's marks\"))\n",
    "            ))\n",
    "    sortByMarks(students)\n",
    "    printStudents(students)"
   ]
  },
  {
   "cell_type": "code",
   "execution_count": 76,
   "metadata": {},
   "outputs": [
    {
     "output_type": "stream",
     "name": "stdout",
     "text": [
      "Name:  jg , Roll No:  56 , Marks No:  56\nName:  asd , Roll No:  34 , Marks No:  55\nName:  njbu , Roll No:  49 , Marks No:  49\n"
     ]
    }
   ],
   "source": [
    "takeInput()"
   ]
  }
 ]
}