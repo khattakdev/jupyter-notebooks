{
 "metadata": {
  "language_info": {
   "codemirror_mode": {
    "name": "ipython",
    "version": 3
   },
   "file_extension": ".py",
   "mimetype": "text/x-python",
   "name": "python",
   "nbconvert_exporter": "python",
   "pygments_lexer": "ipython3",
   "version": "3.9.2"
  },
  "orig_nbformat": 2,
  "kernelspec": {
   "name": "python3",
   "display_name": "Python 3.9.2 64-bit",
   "metadata": {
    "interpreter": {
     "hash": "4fdf0411c4879bc9c6e4b45bea9a36fde954b512d06ac46566fd0a714874d8cd"
    }
   }
  }
 },
 "nbformat": 4,
 "nbformat_minor": 2,
 "cells": [
  {
   "cell_type": "code",
   "execution_count": 1,
   "metadata": {
    "tags": []
   },
   "outputs": [
    {
     "output_type": "stream",
     "name": "stdout",
     "text": [
      "[[ 0  0  0 ...  0  0  0]\n [ 0  0  0 ...  0  0  0]\n [ 0  0  0 ...  0  0  0]\n ...\n [24 22 18 ...  0  0  0]\n [22 20 16 ...  0  0  0]\n [ 0  0  0 ...  0  0  0]]\n\n[[ 0  0  0 ...  0  2  0]\n [ 0  0  0 ...  1  1  0]\n [ 0  0  0 ...  4  1  0]\n ...\n [ 0  0  0 ... 20  4  0]\n [ 0  0  0 ... 24  4  0]\n [ 0  0  0 ... 26  4  0]]\n"
     ]
    }
   ],
   "source": [
    "import cv2\n",
    "import numpy as np\n",
    "\n",
    "Gx=[[1,2,1],[0,0,0],[-1,-2,-1]]\n",
    "Gy=[[1,0,-1],[2,0,-2],[1,0,-1]]\n",
    "img = cv2.imread(\"./bird.jpeg\")\n",
    "image = cv2.cvtColor(img, cv2.COLOR_BGR2GRAY )\n",
    "\n",
    "maskx = np.array(([1,2,1],[0,0,0],[-1,-2,-1]))\n",
    "masky = np.array(([[1,0,-1],[2,0,-2],[1,0,-1]]))\n",
    "\n",
    "outputx = cv2.filter2D(image, -1, maskx)\n",
    "outputy = cv2.filter2D(image, -1, masky)\n",
    "\n",
    "cv2.imshow(\"image\", outputx)\n",
    "cv2.waitKey(0)\n",
    "\n",
    "cv2.imshow(\"image\", outputy)\n",
    "cv2.waitKey(0)\n",
    "\n",
    "print(outputx)\n",
    "print()\n",
    "print(outputy)"
   ]
  },
  {
   "cell_type": "code",
   "execution_count": null,
   "metadata": {},
   "outputs": [],
   "source": []
  }
 ]
}